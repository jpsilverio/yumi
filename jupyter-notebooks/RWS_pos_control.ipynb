{
 "cells": [
  {
   "cell_type": "markdown",
   "metadata": {},
   "source": [
    "# YuMi ROS example motions"
   ]
  },
  {
   "cell_type": "code",
   "execution_count": 1,
   "metadata": {},
   "outputs": [],
   "source": [
    "import rospy\n",
    "import numpy as np\n",
    "import time\n",
    "from std_msgs.msg import Float64\n",
    "from sensor_msgs.msg import JointState\n",
    "from IPython.display import display, clear_output"
   ]
  },
  {
   "cell_type": "markdown",
   "metadata": {},
   "source": [
    "### Initialize ROS stuff"
   ]
  },
  {
   "cell_type": "code",
   "execution_count": 1,
   "metadata": {},
   "outputs": [
    {
     "ename": "NameError",
     "evalue": "name 'rospy' is not defined",
     "output_type": "error",
     "traceback": [
      "\u001b[0;31m---------------------------------------------------------------------------\u001b[0m",
      "\u001b[0;31mNameError\u001b[0m                                 Traceback (most recent call last)",
      "\u001b[0;32m<ipython-input-1-e12967be79b0>\u001b[0m in \u001b[0;36m<module>\u001b[0;34m\u001b[0m\n\u001b[0;32m----> 1\u001b[0;31m \u001b[0mrospy\u001b[0m\u001b[0;34m.\u001b[0m\u001b[0minit_node\u001b[0m\u001b[0;34m(\u001b[0m\u001b[0;34m'YuMi_params_control_mode'\u001b[0m\u001b[0;34m,\u001b[0m \u001b[0manonymous\u001b[0m\u001b[0;34m=\u001b[0m\u001b[0;32mTrue\u001b[0m\u001b[0;34m)\u001b[0m\u001b[0;34m\u001b[0m\u001b[0;34m\u001b[0m\u001b[0m\n\u001b[0m\u001b[1;32m      2\u001b[0m \u001b[0mrate\u001b[0m \u001b[0;34m=\u001b[0m \u001b[0mrospy\u001b[0m\u001b[0;34m.\u001b[0m\u001b[0mRate\u001b[0m\u001b[0;34m(\u001b[0m\u001b[0;36m100\u001b[0m\u001b[0;34m)\u001b[0m \u001b[0;31m# 10hz\u001b[0m\u001b[0;34m\u001b[0m\u001b[0;34m\u001b[0m\u001b[0m\n\u001b[1;32m      3\u001b[0m \u001b[0;31m#print rate.sleep_dur.secs + rate.sleep_dur.nsecs*1E-9\u001b[0m\u001b[0;34m\u001b[0m\u001b[0;34m\u001b[0m\u001b[0;34m\u001b[0m\u001b[0m\n\u001b[1;32m      4\u001b[0m \u001b[0;34m\u001b[0m\u001b[0m\n\u001b[1;32m      5\u001b[0m \u001b[0mpub_left\u001b[0m\u001b[0;34m=\u001b[0m\u001b[0;34m[\u001b[0m\u001b[0;32mNone\u001b[0m\u001b[0;34m]\u001b[0m\u001b[0;34m*\u001b[0m\u001b[0;36m7\u001b[0m\u001b[0;34m\u001b[0m\u001b[0;34m\u001b[0m\u001b[0m\n",
      "\u001b[0;31mNameError\u001b[0m: name 'rospy' is not defined"
     ]
    }
   ],
   "source": [
    "rospy.init_node('YuMi_params_control_mode', anonymous=True)\n",
    "rate = rospy.Rate(100) # 10hz\n",
    "#print rate.sleep_dur.secs + rate.sleep_dur.nsecs*1E-9\n",
    "\n",
    "pub_left=[None]*7\n",
    "for i in range(0,7):\n",
    "    pub_left[i] = rospy.Publisher('/yumi/joint_pos_controller_' + str(i+1) + '_l/command', Float64, queue_size=10)    \n",
    "\n",
    "pub_right=[None]*7\n",
    "for i in range(0,7):\n",
    "    pub_right[i] = rospy.Publisher('/yumi/joint_pos_controller_' + str(i+1) + '_r/command', Float64, queue_size=10)    "
   ]
  },
  {
   "cell_type": "markdown",
   "metadata": {},
   "source": [
    "# Scanning motions"
   ]
  },
  {
   "cell_type": "markdown",
   "metadata": {},
   "source": [
    "### Move right arm - scan start"
   ]
  },
  {
   "cell_type": "code",
   "execution_count": 22,
   "metadata": {},
   "outputs": [
    {
     "name": "stdout",
     "output_type": "stream",
     "text": [
      "7\n"
     ]
    }
   ],
   "source": [
    "q=[1.0401567220687866, -1.7463831901550293, -0.2098861038684845, 1.123214840888977, 1.570690631866455, -1.3980672359466553, -2.213771343231201]\n",
    "print(len(q))\n",
    "for i in range(0,7):\n",
    "    pub_right[i].publish(q[i])"
   ]
  },
  {
   "cell_type": "markdown",
   "metadata": {},
   "source": [
    "### Move right arm - scan end"
   ]
  },
  {
   "cell_type": "code",
   "execution_count": 23,
   "metadata": {},
   "outputs": [],
   "source": [
    "q=[0.9381018877029419, -1.7453104257583618, -0.08319079875946045, 1.0436166524887085, 1.4967988729476929, -1.4000777006149292, -2.1597139835357666]\n",
    "\n",
    "for i in range(0,7):\n",
    "    pub_right[i].publish(q[i])"
   ]
  },
  {
   "cell_type": "markdown",
   "metadata": {},
   "source": [
    "# Point-to-point"
   ]
  },
  {
   "cell_type": "markdown",
   "metadata": {},
   "source": [
    "## Left arm"
   ]
  },
  {
   "cell_type": "code",
   "execution_count": 18,
   "metadata": {},
   "outputs": [],
   "source": [
    "qleft=[None]*7\n",
    "qleft[0] = -1.5\n",
    "qleft[1] = -1.0\n",
    "qleft[2] = -0.0\n",
    "qleft[3] = -0.2\n",
    "qleft[4] = -0.6\n",
    "qleft[5] = -0.4\n",
    "qleft[6] = -0.2\n",
    "\n",
    "for i in range(0,7):\n",
    "    pub_left[i].publish(qleft[i])"
   ]
  },
  {
   "cell_type": "markdown",
   "metadata": {},
   "source": [
    "## Right arm"
   ]
  },
  {
   "cell_type": "code",
   "execution_count": 21,
   "metadata": {},
   "outputs": [],
   "source": [
    "qright=[None]*7\n",
    "qright[0] = 0.1\n",
    "qright[1] = 0.1\n",
    "qright[2] = 0.2\n",
    "qright[3] = 0.2\n",
    "qright[4] = 0.2\n",
    "qright[5] = 0.2\n",
    "qright[6] = -0.2\n",
    "\n",
    "for i in range(0,7):\n",
    "    pub_right[i].publish(qright[i])"
   ]
  },
  {
   "cell_type": "markdown",
   "metadata": {},
   "source": [
    "### Apply sine wave to shoulder"
   ]
  },
  {
   "cell_type": "code",
   "execution_count": null,
   "metadata": {},
   "outputs": [],
   "source": [
    "A = 0.3\n",
    "T = 10.0 # period\n",
    "\n",
    "print rate.sleep_dur.secs + rate.sleep_dur.nsecs*1E-9\n",
    "t_in = time.time()\n",
    "while 1:\n",
    "    t = time.time()\n",
    "    joint_angle = 0.0 + A*np.sin(2*np.pi*(1/T)*(t-t_in))\n",
    "    pub_desiredpos_left.publish(joint_angle)\n",
    "    pub_desiredpos_right.publish(-joint_angle)\n",
    "    time.sleep(rate.sleep_dur.secs + rate.sleep_dur.nsecs*1E-9)    "
   ]
  },
  {
   "cell_type": "markdown",
   "metadata": {},
   "source": [
    "### Joint angle sorter"
   ]
  },
  {
   "cell_type": "code",
   "execution_count": null,
   "metadata": {},
   "outputs": [],
   "source": [
    "q_in = [-0.5002824664115906, 1.0401567220687866, -1.7459584474563599, -1.7463831901550293, 0.41439390182495117, -0.2098861038684845, -0.33513718843460083, 1.123214840888977, 0.665276825428009, 1.570690631866455, -1.388559667248046e-05, -1.3980672359466553, 2.411583662033081, -2.213771343231201]\n",
    "\n",
    "q_left = q_in[0::2]\n",
    "print \"q_left:\", q_left, len(q_left)\n",
    "\n",
    "q_right = q_in[1::2]\n",
    "print \"q_right:\", q_right, len(q_right)"
   ]
  },
  {
   "cell_type": "code",
   "execution_count": null,
   "metadata": {},
   "outputs": [],
   "source": [
    "\n"
   ]
  }
 ],
 "metadata": {
  "kernelspec": {
   "display_name": "Python 2",
   "language": "python",
   "name": "python2"
  },
  "language_info": {
   "codemirror_mode": {
    "name": "ipython",
    "version": 2
   },
   "file_extension": ".py",
   "mimetype": "text/x-python",
   "name": "python",
   "nbconvert_exporter": "python",
   "pygments_lexer": "ipython2",
   "version": "2.7.16"
  }
 },
 "nbformat": 4,
 "nbformat_minor": 2
}
