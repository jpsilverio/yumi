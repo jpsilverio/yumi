{
 "cells": [
  {
   "cell_type": "code",
   "execution_count": 1,
   "metadata": {},
   "outputs": [],
   "source": [
    "import rospy\n",
    "from trajectory_msgs.msg import JointTrajectory\n",
    "from trajectory_msgs.msg import JointTrajectoryPoint"
   ]
  },
  {
   "cell_type": "markdown",
   "metadata": {},
   "source": [
    "### Initialize ROS stuff"
   ]
  },
  {
   "cell_type": "code",
   "execution_count": 2,
   "metadata": {},
   "outputs": [],
   "source": [
    "rospy.init_node(\"test_joint_trajectory_msgs\")\n",
    "rate = rospy.Rate(100) # 10hz"
   ]
  },
  {
   "cell_type": "code",
   "execution_count": 3,
   "metadata": {},
   "outputs": [],
   "source": [
    "pub_left = rospy.Publisher('/yumi/joint_traj_pos_controller_l/command', JointTrajectory, queue_size=10)\n",
    "pub_right = rospy.Publisher('/yumi/joint_traj_vel_controller_r/command', JointTrajectory, queue_size=10)"
   ]
  },
  {
   "cell_type": "code",
   "execution_count": 5,
   "metadata": {},
   "outputs": [],
   "source": [
    "trajectory=JointTrajectory()\n",
    "point=JointTrajectoryPoint()\n",
    "trajectory.header.stamp = rospy.Time(0.0)\n",
    "point.time_from_start = rospy.Duration(10)\n",
    "#trajectory.header.frame_id = \"/base_link\"\n",
    "#left_traj.header.stamp = ros::Time(0.0);\n",
    "\n",
    "trajectory.joint_names.append(\"yumi_joint_1_l\");\n",
    "trajectory.joint_names.append(\"yumi_joint_2_l\");\n",
    "trajectory.joint_names.append(\"yumi_joint_3_l\");\n",
    "trajectory.joint_names.append(\"yumi_joint_4_l\");\n",
    "trajectory.joint_names.append(\"yumi_joint_5_l\");\n",
    "trajectory.joint_names.append(\"yumi_joint_6_l\");\n",
    "trajectory.joint_names.append(\"yumi_joint_7_l\");\n",
    "\n",
    "point.positions.append(-1.0)\n",
    "point.positions.append(0.0)\n",
    "point.positions.append(0.0)\n",
    "point.positions.append(0.0)\n",
    "point.positions.append(0.0)\n",
    "point.positions.append(0.0)\n",
    "point.positions.append(0.0)\n",
    "\n",
    "#point.velocities.append(0.0)\n",
    "#point.velocities.append(0.0)\n",
    "#point.velocities.append(0.0)\n",
    "#point.velocities.append(0.0)\n",
    "#point.velocities.append(0.0)\n",
    "#point.velocities.append(0.0)\n",
    "#point.velocities.append(0.0)\n",
    "\n",
    "#point.accelerations.append(0.0)\n",
    "#point.accelerations.append(0.0)\n",
    "#point.accelerations.append(0.0)\n",
    "#point.accelerations.append(0.0)\n",
    "#point.accelerations.append(0.0)\n",
    "#point.accelerations.append(0.0)\n",
    "#point.accelerations.append(0.0)\n",
    "\n",
    "#print point\n",
    "trajectory.points.append(point)\n",
    "\n",
    "#point2=JointTrajectoryPoint()\n",
    "#point2.positions.append(0.5)\n",
    "#point2.positions.append(0.0)\n",
    "#point2.positions.append(0.0)\n",
    "#point2.positions.append(0.0)\n",
    "#point2.positions.append(0.0)\n",
    "#point2.positions.append(0.0)\n",
    "#point2.positions.append(0.0)\n",
    "#point2.time_from_start = rospy.Duration(4.0)\n",
    "#print point\n",
    "#trajectory.points.append(point2)\n",
    "\n",
    "#print trajectory.points\n",
    "pub_left.publish(trajectory)\n",
    "\n"
   ]
  },
  {
   "cell_type": "code",
   "execution_count": null,
   "metadata": {},
   "outputs": [],
   "source": []
  },
  {
   "cell_type": "code",
   "execution_count": null,
   "metadata": {},
   "outputs": [],
   "source": []
  }
 ],
 "metadata": {
  "kernelspec": {
   "display_name": "Python 2",
   "language": "python",
   "name": "python2"
  },
  "language_info": {
   "codemirror_mode": {
    "name": "ipython",
    "version": 2
   },
   "file_extension": ".py",
   "mimetype": "text/x-python",
   "name": "python",
   "nbconvert_exporter": "python",
   "pygments_lexer": "ipython2",
   "version": "2.7.16"
  }
 },
 "nbformat": 4,
 "nbformat_minor": 2
}
